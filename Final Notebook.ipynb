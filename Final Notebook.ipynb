{
 "cells": [
  {
   "cell_type": "markdown",
   "metadata": {},
   "source": [
    "# CSCE 320 - Classifying Movie Genres based on its Movie Poster"
   ]
  },
  {
   "cell_type": "markdown",
   "metadata": {},
   "source": [
    "# Overview, Project Goals and Motivation\n",
    "\n",
    "Movie posters can be designed in a confusing way even for humans. We wanted to create a model that is able to predict the movie genre of a movie poster. The purpose of this project is to determine some features of a movie poster has that may be key factors in analyzing what genre the movie belongs to and whether a neural network is capable of doing a reasonable job predicting genres based on a single poster.\n",
    "\n",
    "Our primary goal is to create a working prediction model to predict the genre of movie that a movie is based primarily on the poster only. Our secondary goal was to look at features of movie posters and see whether there are any patterns that emerge from them. The features that this study looked at was the dominant color of the movie poster and the number of faces on the poster.\n",
    "\n",
    "From the neural network, we may eventually apply it to any screenshot from the movie and use that screenshot as promotional material for the movie to target specific audiences. However within the scope of this study, we will not be creating this application."
   ]
  },
  {
   "cell_type": "markdown",
   "metadata": {},
   "source": [
    "# Initial Questions\n",
    "Does the dominant color of poster and the facial emotion of the poster have any effect on predicting what genre that the poster is?\n",
    "\n",
    "Can we create a reliably accurate neural network that can predict the genre of the poster given?"
   ]
  },
  {
   "cell_type": "markdown",
   "metadata": {},
   "source": [
    "# Related Work\n",
    "\n",
    "Once we knew what we wanted to work on, we did some research from similar work. First, we found a similar project that classified movie posters based on genres but didn't use neural networks. It used low level features such as colors and edges to make predictions - https://ieeexplore.ieee.org/document/6859750 After some more research, we found a study that set up a neural network for multi-label image classification of satellite photos of the amazon rainforest - https://machinelearningmastery.com/how-to-develop-a-convolutional-neural-network-to-classify-satellite-photos-of-the-amazon-rainforest/ We chose to integrate the application of neural networks into our project since the results of this study were interesting and accurate."
   ]
  },
  {
   "cell_type": "markdown",
   "metadata": {},
   "source": [
    "## Outline\n",
    "Part 1 - Data Extraction and Preprocessing <br />\n",
    "&nbsp;&nbsp;&nbsp;&nbsp; 1.1 - Data Preprocessing <br />\n",
    "&nbsp;&nbsp;&nbsp;&nbsp; 1.2 - Dataset Visualization <br />\n",
    "Part 2 - Exploratory Data Analysis <br />\n",
    "&nbsp;&nbsp;&nbsp;&nbsp; 2.1 - Dominant Color Analysis <br />\n",
    "&nbsp;&nbsp;&nbsp;&nbsp; 2.2 - Facial Recognition Analysis <br />\n",
    "&nbsp;&nbsp;&nbsp;&nbsp; 2.3 - Neural Network Prediction <br />\n",
    "Part 3 - Final Analysis"
   ]
  },
  {
   "cell_type": "markdown",
   "metadata": {},
   "source": [
    "# Part 1 - Data extraction and Preprocessing\n",
    "Data was extracted through the TMDB API. The code for this is located inside of the scraper.py file on the Github page.\n",
    "<br/>\n",
    "At first we downloaded all movie posters possible including movies that were not in english and of any date, but then we decided to narrow down the variables and only accepted movie posters that were made for english speaking movies after the year 2000. We also limited the number of movies in each genre to at most 700 since we did not want a large imbalance in movies"
   ]
  },
  {
   "cell_type": "code",
   "execution_count": 17,
   "metadata": {},
   "outputs": [],
   "source": [
    "######### IMPORTS ############\n",
    "#data analysis and vis imports\n",
    "import pandas as pd\n",
    "import numpy as np\n",
    "import matplotlib.pyplot as plt\n",
    "from matplotlib import gridspec\n",
    "from mpl_toolkits.mplot3d import Axes3D\n",
    "\n",
    "#dominant color imports\n",
    "from colorthief import ColorThief\n",
    "\n",
    "#machine learning imports\n",
    "import tensorflow as tf\n",
    "from tensorflow.keras import Sequential\n",
    "from tensorflow.keras.layers import Flatten, Dense, Dropout, BatchNormalization, Conv2D, MaxPool2D\n",
    "from tensorflow.keras.preprocessing import image\n",
    "from tensorflow.keras.optimizers import Adam\n",
    "from sklearn.model_selection import train_test_split\n",
    "from tensorflow.keras.models import load_model\n",
    "from tensorflow.keras.models import save_model\n",
    "from sklearn.cluster import KMeans\n",
    "from sklearn.tree import DecisionTreeClassifier\n",
    "\n",
    "#image imports\n",
    "from PIL import Image \n",
    "import cv2\n",
    "\n",
    "import sys\n",
    "import os"
   ]
  },
  {
   "cell_type": "markdown",
   "metadata": {},
   "source": [
    "### Part 1.1 - Data Preprocessing"
   ]
  },
  {
   "cell_type": "markdown",
   "metadata": {},
   "source": [
    "check csv file and make sure that everything has been properly downloaded"
   ]
  },
  {
   "cell_type": "code",
   "execution_count": 2,
   "metadata": {},
   "outputs": [
    {
     "data": {
      "text/html": [
       "<div>\n",
       "<style scoped>\n",
       "    .dataframe tbody tr th:only-of-type {\n",
       "        vertical-align: middle;\n",
       "    }\n",
       "\n",
       "    .dataframe tbody tr th {\n",
       "        vertical-align: top;\n",
       "    }\n",
       "\n",
       "    .dataframe thead th {\n",
       "        text-align: right;\n",
       "    }\n",
       "</style>\n",
       "<table border=\"1\" class=\"dataframe\">\n",
       "  <thead>\n",
       "    <tr style=\"text-align: right;\">\n",
       "      <th></th>\n",
       "      <th>Title</th>\n",
       "      <th>Genres</th>\n",
       "      <th>Poster_Path</th>\n",
       "      <th>Language</th>\n",
       "      <th>Release_Date</th>\n",
       "      <th>Popularity</th>\n",
       "      <th>ID</th>\n",
       "    </tr>\n",
       "  </thead>\n",
       "  <tbody>\n",
       "    <tr>\n",
       "      <th>0</th>\n",
       "      <td>\"40 Days and Nights\"</td>\n",
       "      <td>Action Science Fiction Adventure Thriller</td>\n",
       "      <td>posters/movie0.png</td>\n",
       "      <td>en</td>\n",
       "      <td>2012-12-15</td>\n",
       "      <td>7.378</td>\n",
       "      <td>145738</td>\n",
       "    </tr>\n",
       "    <tr>\n",
       "      <th>1</th>\n",
       "      <td>\"Frustration\"</td>\n",
       "      <td>Animation</td>\n",
       "      <td>posters/movie1.png</td>\n",
       "      <td>en</td>\n",
       "      <td>2015-03-16</td>\n",
       "      <td>0.600</td>\n",
       "      <td>542615</td>\n",
       "    </tr>\n",
       "    <tr>\n",
       "      <th>2</th>\n",
       "      <td>\"Tolkien\"</td>\n",
       "      <td>Drama History War Romance</td>\n",
       "      <td>posters/movie2.png</td>\n",
       "      <td>en</td>\n",
       "      <td>2019-05-03</td>\n",
       "      <td>23.830</td>\n",
       "      <td>468224</td>\n",
       "    </tr>\n",
       "    <tr>\n",
       "      <th>3</th>\n",
       "      <td>\"Save Sandra\"</td>\n",
       "      <td>Drama</td>\n",
       "      <td>posters/movie3.png</td>\n",
       "      <td>en</td>\n",
       "      <td>2020-10-28</td>\n",
       "      <td>1.172</td>\n",
       "      <td>682270</td>\n",
       "    </tr>\n",
       "    <tr>\n",
       "      <th>4</th>\n",
       "      <td>\"Nazi Titanic\"</td>\n",
       "      <td>TV Movie Documentary</td>\n",
       "      <td>posters/movie4.png</td>\n",
       "      <td>en</td>\n",
       "      <td>2012-04-14</td>\n",
       "      <td>4.412</td>\n",
       "      <td>463397</td>\n",
       "    </tr>\n",
       "  </tbody>\n",
       "</table>\n",
       "</div>"
      ],
      "text/plain": [
       "                  Title                                     Genres  \\\n",
       "0  \"40 Days and Nights\"  Action Science Fiction Adventure Thriller   \n",
       "1         \"Frustration\"                                  Animation   \n",
       "2             \"Tolkien\"                  Drama History War Romance   \n",
       "3         \"Save Sandra\"                                      Drama   \n",
       "4        \"Nazi Titanic\"                       TV Movie Documentary   \n",
       "\n",
       "          Poster_Path Language Release_Date  Popularity      ID  \n",
       "0  posters/movie0.png       en   2012-12-15       7.378  145738  \n",
       "1  posters/movie1.png       en   2015-03-16       0.600  542615  \n",
       "2  posters/movie2.png       en   2019-05-03      23.830  468224  \n",
       "3  posters/movie3.png       en   2020-10-28       1.172  682270  \n",
       "4  posters/movie4.png       en   2012-04-14       4.412  463397  "
      ]
     },
     "execution_count": 2,
     "metadata": {},
     "output_type": "execute_result"
    }
   ],
   "source": [
    "data = pd.read_csv('mov_ids.csv')\n",
    "data.head()"
   ]
  },
  {
   "cell_type": "markdown",
   "metadata": {},
   "source": [
    "processImages function resizes the posters to 350 pixels by 350 pixels and stores the rgb values into an img_array. This function is specifically used for preprocessing the image for the neural network.\n",
    "\n",
    "setupData functions takes in the genres from the dataframe and splits them into a binary matrix adding the genres back to the dataframe."
   ]
  },
  {
   "cell_type": "code",
   "execution_count": 3,
   "metadata": {},
   "outputs": [],
   "source": [
    "#Folder specification\n",
    "folder = \"posters\"\n",
    "\n",
    "# formatting image dimensions\n",
    "img_width = 350\n",
    "img_height = 350\n",
    "img_count = len([item for item in os.listdir('resized') if os.path.isfile(os.path.join('resized', item))])\n",
    "\n",
    "def processImages(folder):\n",
    "    img_array = []\n",
    "\n",
    "    i = 0\n",
    "    while i < img_count:\n",
    "        filename = (folder + \"/movie\") + str(i) + \".png\"\n",
    "        img = image.load_img(filename, target_size = (img_width, img_height, 3))\n",
    "        img = image.img_to_array(img) # Converting the image to an array\n",
    "        img = img / 255.0 # Converting to neural network preferred values\n",
    "        img_array.append(img)\n",
    "        i = i + 1\n",
    "    img_array = np.array(img_array)\n",
    "    return img_array\n",
    "\n",
    "def setupData():\n",
    "    data = pd.read_csv(\"mov_IDs.csv\")\n",
    "    i = -1  \n",
    "    \n",
    "    #setup binary matrix\n",
    "    for genres in data['Genres']:\n",
    "        i = i + 1\n",
    "        genres = genres.split()\n",
    "        for genre in genres:\n",
    "            if genre == \"TV\":\n",
    "                genre = \"TV Movie\"\n",
    "            if genre == \"Science\":\n",
    "                genre = \"Science Fiction\"\n",
    "            if genre == \"Movie\" or genre == \"Fiction\":\n",
    "                continue\n",
    "                \n",
    "            if genre not in data.columns:\n",
    "                data[genre] = [0 for a in range(0,img_count)]\n",
    "            data.iloc[i, data.columns.get_loc(genre)] = 1\n",
    "\n",
    "    dataModel = data.drop(['Title', 'Genres', 'Poster_Path', 'Release_Date', 'Language', 'Popularity', 'ID'], axis = 1)\n",
    "    dataModel = dataModel.to_numpy()\n",
    "    img_array = []\n",
    "    img_array = processImages(folder)\n",
    "    return data, dataModel, img_array"
   ]
  },
  {
   "cell_type": "markdown",
   "metadata": {},
   "source": [
    "Setting up the dataframe takes a couple of minutes to do."
   ]
  },
  {
   "cell_type": "code",
   "execution_count": 4,
   "metadata": {},
   "outputs": [],
   "source": [
    "#setup dataframe\n",
    "mov_df, dataModel, img_array = setupData()"
   ]
  },
  {
   "cell_type": "markdown",
   "metadata": {},
   "source": [
    "This next block of code creates a folder that resizes all the movie posters and saves them in a folder called 'resized'. You wouldn't need to run it since the folder has already been created and has been stored in the repository."
   ]
  },
  {
   "cell_type": "code",
   "execution_count": 5,
   "metadata": {},
   "outputs": [],
   "source": [
    "res_arr = []\n",
    "for x in mov_df['Poster_Path']:\n",
    "    #resize posters\n",
    "    img = cv2.imread(x) \n",
    "    width = 350\n",
    "    height = 350\n",
    "    dim = (width, height) \n",
    "    resized = cv2.resize(img, dim, interpolation = cv2.INTER_AREA) \n",
    "    new_path = 'resized/' + x[8:]\n",
    "    cv2.imwrite(new_path, resized)\n",
    "    res_arr.append(new_path)"
   ]
  },
  {
   "cell_type": "markdown",
   "metadata": {},
   "source": [
    "### Part 1.2 - Dataset Visualization\n",
    "This gives a visualization of what is actually stored in our dataset, primarily the genres and their release dates"
   ]
  },
  {
   "cell_type": "markdown",
   "metadata": {},
   "source": [
    "Plot of all the genres within our dataset. We tried to limit the number of genres so it could have a more even distribution. In the past 2 decades since 2000, through a random selection of movies, we have found that movie genres related to History, Wars, and Westerns is significantly lower while other movies are more widely produced. "
   ]
  },
  {
   "cell_type": "code",
   "execution_count": 7,
   "metadata": {},
   "outputs": [
    {
     "data": {
      "image/png": "[encoded data removed]",
      "text/plain": [
       "<Figure size 432x288 with 1 Axes>"
      ]
     },
     "metadata": {
      "needs_background": "light"
     },
     "output_type": "display_data"
    }
   ],
   "source": [
    "def plotGenre(d):\n",
    "    data = d.copy()\n",
    "    \n",
    "    #read genres from dataframe\n",
    "    genres = data.columns[7:]\n",
    "    genreX = []\n",
    "    genreY = []\n",
    "    for x in genres:\n",
    "        genreX.append(x)\n",
    "        genreY.append(len(data.loc[data[x] == 1]))\n",
    "    \n",
    "    #plot genres\n",
    "    plt.title('Genres of every movie within our dataset')\n",
    "    plt.xticks(rotation = 90)\n",
    "    plt.bar(x = genreX, height = genreY)\n",
    "    plt.xlabel('Genre')\n",
    "    plt.ylabel('# of movies')\n",
    "    plt.savefig('charts/genre.png',bbox_inches='tight')\n",
    "plotGenre(mov_df)"
   ]
  },
  {
   "cell_type": "markdown",
   "metadata": {},
   "source": [
    "Plot of all release dates within our dataset. <br/>\n",
    "Although we randomly collected the movie data, with this graph we can see that more and more films have been releasing each year. "
   ]
  },
  {
   "cell_type": "code",
   "execution_count": 8,
   "metadata": {},
   "outputs": [
    {
     "data": {
      "image/png": "[encoded data removed]",
      "text/plain": [
       "<Figure size 432x288 with 1 Axes>"
      ]
     },
     "metadata": {
      "needs_background": "light"
     },
     "output_type": "display_data"
    }
   ],
   "source": [
    "def plotDate(d):\n",
    "    data = d.copy()\n",
    "    \n",
    "    #read dates from dataframe\n",
    "    dateX = [*range(2000,2021,1)]\n",
    "    dateY = []\n",
    "    for x in dateX:\n",
    "        count = 0\n",
    "        for y in data['Release_Date']:\n",
    "            if str(x) == y[0:4]:\n",
    "                count += 1\n",
    "        dateY.append(count)\n",
    "        \n",
    "    #plot date\n",
    "    plt.title('Release Dates of every movie within our dataset')\n",
    "    plt.bar(x = dateX, height = dateY)\n",
    "    plt.xlabel('Release Date (Year)')\n",
    "    plt.ylabel('# of movies')\n",
    "    plt.savefig('charts/dates.png',bbox_inches='tight') \n",
    "plotDate(mov_df)"
   ]
  },
  {
   "cell_type": "markdown",
   "metadata": {},
   "source": [
    "# Part 2 - Exploratory Data Analysis"
   ]
  },
  {
   "cell_type": "markdown",
   "metadata": {},
   "source": [
    "### Part 2.1 - Dominant Color Extraction\n",
    "We decided to take a look at the Dominant Colors of each poster in every movie genre since this may be a key factor in deciding the genre of the movie based off of the poster. First we evaluated the dominant color of every movie based on a single genre, but then we paired genres and analyzed that as well.\n",
    "\n",
    "Dominant colors are extracted using the ColorThief tool. It essentially gets the rgb value array of the image and performs kmeans clustering to get the most dominant color. Originally we created our own, but the model we created was slower than the tool used."
   ]
  },
  {
   "cell_type": "markdown",
   "metadata": {},
   "source": [
    "Warning: We don't recommend running the code for this part of the analysis since it may take from 30 min to an hour depending on your computer to extract the colors from all 5000 movies. The results for this analysis are already displayed.\n",
    "\n",
    "First get dominant colors from every poster and store it inside of the dataframe"
   ]
  },
  {
   "cell_type": "code",
   "execution_count": 22,
   "metadata": {},
   "outputs": [
    {
     "ename": "KeyboardInterrupt",
     "evalue": "",
     "output_type": "error",
     "traceback": [
      "\u001b[1;31m---------------------------------------------------------------------------\u001b[0m",
      "\u001b[1;31mKeyboardInterrupt\u001b[0m                         Traceback (most recent call last)",
      "\u001b[1;32m<ipython-input-22-63478bd62763>\u001b[0m in \u001b[0;36m<module>\u001b[1;34m\u001b[0m\n\u001b[0;32m      3\u001b[0m     \u001b[1;31m#get dominant colors and palette\u001b[0m\u001b[1;33m\u001b[0m\u001b[1;33m\u001b[0m\u001b[1;33m\u001b[0m\u001b[0m\n\u001b[0;32m      4\u001b[0m     \u001b[0mcolor_thief\u001b[0m \u001b[1;33m=\u001b[0m \u001b[0mColorThief\u001b[0m\u001b[1;33m(\u001b[0m\u001b[0mx\u001b[0m\u001b[1;33m)\u001b[0m\u001b[1;33m\u001b[0m\u001b[1;33m\u001b[0m\u001b[0m\n\u001b[1;32m----> 5\u001b[1;33m     \u001b[0mdominant_color\u001b[0m \u001b[1;33m=\u001b[0m \u001b[0mcolor_thief\u001b[0m\u001b[1;33m.\u001b[0m\u001b[0mget_color\u001b[0m\u001b[1;33m(\u001b[0m\u001b[0mquality\u001b[0m\u001b[1;33m=\u001b[0m\u001b[1;36m1\u001b[0m\u001b[1;33m)\u001b[0m\u001b[1;33m\u001b[0m\u001b[1;33m\u001b[0m\u001b[0m\n\u001b[0m\u001b[0;32m      6\u001b[0m     \u001b[0mdomcol\u001b[0m\u001b[1;33m.\u001b[0m\u001b[0mappend\u001b[0m\u001b[1;33m(\u001b[0m\u001b[0mdominant_color\u001b[0m\u001b[1;33m)\u001b[0m\u001b[1;33m\u001b[0m\u001b[1;33m\u001b[0m\u001b[0m\n\u001b[0;32m      7\u001b[0m \u001b[0mmov_df\u001b[0m\u001b[1;33m[\u001b[0m\u001b[1;34m'dominant_color'\u001b[0m\u001b[1;33m]\u001b[0m \u001b[1;33m=\u001b[0m \u001b[0mdomcol\u001b[0m\u001b[1;33m\u001b[0m\u001b[1;33m\u001b[0m\u001b[0m\n",
      "\u001b[1;32m~\\Anaconda3\\lib\\site-packages\\colorthief.py\u001b[0m in \u001b[0;36mget_color\u001b[1;34m(self, quality)\u001b[0m\n\u001b[0;32m     48\u001b[0m         \u001b[1;33m:\u001b[0m\u001b[1;32mreturn\u001b[0m \u001b[0mtuple\u001b[0m\u001b[1;33m:\u001b[0m \u001b[1;33m(\u001b[0m\u001b[0mr\u001b[0m\u001b[1;33m,\u001b[0m \u001b[0mg\u001b[0m\u001b[1;33m,\u001b[0m \u001b[0mb\u001b[0m\u001b[1;33m)\u001b[0m\u001b[1;33m\u001b[0m\u001b[1;33m\u001b[0m\u001b[0m\n\u001b[0;32m     49\u001b[0m         \"\"\"\n\u001b[1;32m---> 50\u001b[1;33m         \u001b[0mpalette\u001b[0m \u001b[1;33m=\u001b[0m \u001b[0mself\u001b[0m\u001b[1;33m.\u001b[0m\u001b[0mget_palette\u001b[0m\u001b[1;33m(\u001b[0m\u001b[1;36m5\u001b[0m\u001b[1;33m,\u001b[0m \u001b[0mquality\u001b[0m\u001b[1;33m)\u001b[0m\u001b[1;33m\u001b[0m\u001b[1;33m\u001b[0m\u001b[0m\n\u001b[0m\u001b[0;32m     51\u001b[0m         \u001b[1;32mreturn\u001b[0m \u001b[0mpalette\u001b[0m\u001b[1;33m[\u001b[0m\u001b[1;36m0\u001b[0m\u001b[1;33m]\u001b[0m\u001b[1;33m\u001b[0m\u001b[1;33m\u001b[0m\u001b[0m\n\u001b[0;32m     52\u001b[0m \u001b[1;33m\u001b[0m\u001b[0m\n",
      "\u001b[1;32m~\\Anaconda3\\lib\\site-packages\\colorthief.py\u001b[0m in \u001b[0;36mget_palette\u001b[1;34m(self, color_count, quality)\u001b[0m\n\u001b[0;32m     75\u001b[0m         \u001b[1;31m# Send array to quantize function which clusters values\u001b[0m\u001b[1;33m\u001b[0m\u001b[1;33m\u001b[0m\u001b[1;33m\u001b[0m\u001b[0m\n\u001b[0;32m     76\u001b[0m         \u001b[1;31m# using median cut algorithm\u001b[0m\u001b[1;33m\u001b[0m\u001b[1;33m\u001b[0m\u001b[1;33m\u001b[0m\u001b[0m\n\u001b[1;32m---> 77\u001b[1;33m         \u001b[0mcmap\u001b[0m \u001b[1;33m=\u001b[0m \u001b[0mMMCQ\u001b[0m\u001b[1;33m.\u001b[0m\u001b[0mquantize\u001b[0m\u001b[1;33m(\u001b[0m\u001b[0mvalid_pixels\u001b[0m\u001b[1;33m,\u001b[0m \u001b[0mcolor_count\u001b[0m\u001b[1;33m)\u001b[0m\u001b[1;33m\u001b[0m\u001b[1;33m\u001b[0m\u001b[0m\n\u001b[0m\u001b[0;32m     78\u001b[0m         \u001b[1;32mreturn\u001b[0m \u001b[0mcmap\u001b[0m\u001b[1;33m.\u001b[0m\u001b[0mpalette\u001b[0m\u001b[1;33m\u001b[0m\u001b[1;33m\u001b[0m\u001b[0m\n\u001b[0;32m     79\u001b[0m \u001b[1;33m\u001b[0m\u001b[0m\n",
      "\u001b[1;32m~\\Anaconda3\\lib\\site-packages\\colorthief.py\u001b[0m in \u001b[0;36mquantize\u001b[1;34m(pixels, max_color)\u001b[0m\n\u001b[0;32m    255\u001b[0m \u001b[1;33m\u001b[0m\u001b[0m\n\u001b[0;32m    256\u001b[0m         \u001b[1;31m# first set of colors, sorted by population\u001b[0m\u001b[1;33m\u001b[0m\u001b[1;33m\u001b[0m\u001b[1;33m\u001b[0m\u001b[0m\n\u001b[1;32m--> 257\u001b[1;33m         \u001b[0miter_\u001b[0m\u001b[1;33m(\u001b[0m\u001b[0mpq\u001b[0m\u001b[1;33m,\u001b[0m \u001b[0mMMCQ\u001b[0m\u001b[1;33m.\u001b[0m\u001b[0mFRACT_BY_POPULATIONS\u001b[0m \u001b[1;33m*\u001b[0m \u001b[0mmax_color\u001b[0m\u001b[1;33m)\u001b[0m\u001b[1;33m\u001b[0m\u001b[1;33m\u001b[0m\u001b[0m\n\u001b[0m\u001b[0;32m    258\u001b[0m \u001b[1;33m\u001b[0m\u001b[0m\n\u001b[0;32m    259\u001b[0m         \u001b[1;31m# Re-sort by the product of pixel occupancy times the size in\u001b[0m\u001b[1;33m\u001b[0m\u001b[1;33m\u001b[0m\u001b[1;33m\u001b[0m\u001b[0m\n",
      "\u001b[1;32m~\\Anaconda3\\lib\\site-packages\\colorthief.py\u001b[0m in \u001b[0;36miter_\u001b[1;34m(lh, target)\u001b[0m\n\u001b[0;32m    235\u001b[0m             \u001b[0mn_iter\u001b[0m \u001b[1;33m=\u001b[0m \u001b[1;36m0\u001b[0m\u001b[1;33m\u001b[0m\u001b[1;33m\u001b[0m\u001b[0m\n\u001b[0;32m    236\u001b[0m             \u001b[1;32mwhile\u001b[0m \u001b[0mn_iter\u001b[0m \u001b[1;33m<\u001b[0m \u001b[0mMMCQ\u001b[0m\u001b[1;33m.\u001b[0m\u001b[0mMAX_ITERATION\u001b[0m\u001b[1;33m:\u001b[0m\u001b[1;33m\u001b[0m\u001b[1;33m\u001b[0m\u001b[0m\n\u001b[1;32m--> 237\u001b[1;33m                 \u001b[0mvbox\u001b[0m \u001b[1;33m=\u001b[0m \u001b[0mlh\u001b[0m\u001b[1;33m.\u001b[0m\u001b[0mpop\u001b[0m\u001b[1;33m(\u001b[0m\u001b[1;33m)\u001b[0m\u001b[1;33m\u001b[0m\u001b[1;33m\u001b[0m\u001b[0m\n\u001b[0m\u001b[0;32m    238\u001b[0m                 \u001b[1;32mif\u001b[0m \u001b[1;32mnot\u001b[0m \u001b[0mvbox\u001b[0m\u001b[1;33m.\u001b[0m\u001b[0mcount\u001b[0m\u001b[1;33m:\u001b[0m  \u001b[1;31m# just put it back\u001b[0m\u001b[1;33m\u001b[0m\u001b[1;33m\u001b[0m\u001b[0m\n\u001b[0;32m    239\u001b[0m                     \u001b[0mlh\u001b[0m\u001b[1;33m.\u001b[0m\u001b[0mpush\u001b[0m\u001b[1;33m(\u001b[0m\u001b[0mvbox\u001b[0m\u001b[1;33m)\u001b[0m\u001b[1;33m\u001b[0m\u001b[1;33m\u001b[0m\u001b[0m\n",
      "\u001b[1;32m~\\Anaconda3\\lib\\site-packages\\colorthief.py\u001b[0m in \u001b[0;36mpop\u001b[1;34m(self)\u001b[0m\n\u001b[0;32m    413\u001b[0m     \u001b[1;32mdef\u001b[0m \u001b[0mpop\u001b[0m\u001b[1;33m(\u001b[0m\u001b[0mself\u001b[0m\u001b[1;33m)\u001b[0m\u001b[1;33m:\u001b[0m\u001b[1;33m\u001b[0m\u001b[1;33m\u001b[0m\u001b[0m\n\u001b[0;32m    414\u001b[0m         \u001b[1;32mif\u001b[0m \u001b[1;32mnot\u001b[0m \u001b[0mself\u001b[0m\u001b[1;33m.\u001b[0m\u001b[0m_sorted\u001b[0m\u001b[1;33m:\u001b[0m\u001b[1;33m\u001b[0m\u001b[1;33m\u001b[0m\u001b[0m\n\u001b[1;32m--> 415\u001b[1;33m             \u001b[0mself\u001b[0m\u001b[1;33m.\u001b[0m\u001b[0msort\u001b[0m\u001b[1;33m(\u001b[0m\u001b[1;33m)\u001b[0m\u001b[1;33m\u001b[0m\u001b[1;33m\u001b[0m\u001b[0m\n\u001b[0m\u001b[0;32m    416\u001b[0m         \u001b[1;32mreturn\u001b[0m \u001b[0mself\u001b[0m\u001b[1;33m.\u001b[0m\u001b[0mcontents\u001b[0m\u001b[1;33m.\u001b[0m\u001b[0mpop\u001b[0m\u001b[1;33m(\u001b[0m\u001b[1;33m)\u001b[0m\u001b[1;33m\u001b[0m\u001b[1;33m\u001b[0m\u001b[0m\n\u001b[0;32m    417\u001b[0m \u001b[1;33m\u001b[0m\u001b[0m\n",
      "\u001b[1;32m~\\Anaconda3\\lib\\site-packages\\colorthief.py\u001b[0m in \u001b[0;36msort\u001b[1;34m(self)\u001b[0m\n\u001b[0;32m    397\u001b[0m \u001b[1;33m\u001b[0m\u001b[0m\n\u001b[0;32m    398\u001b[0m     \u001b[1;32mdef\u001b[0m \u001b[0msort\u001b[0m\u001b[1;33m(\u001b[0m\u001b[0mself\u001b[0m\u001b[1;33m)\u001b[0m\u001b[1;33m:\u001b[0m\u001b[1;33m\u001b[0m\u001b[1;33m\u001b[0m\u001b[0m\n\u001b[1;32m--> 399\u001b[1;33m         \u001b[0mself\u001b[0m\u001b[1;33m.\u001b[0m\u001b[0mcontents\u001b[0m\u001b[1;33m.\u001b[0m\u001b[0msort\u001b[0m\u001b[1;33m(\u001b[0m\u001b[0mkey\u001b[0m\u001b[1;33m=\u001b[0m\u001b[0mself\u001b[0m\u001b[1;33m.\u001b[0m\u001b[0msort_key\u001b[0m\u001b[1;33m)\u001b[0m\u001b[1;33m\u001b[0m\u001b[1;33m\u001b[0m\u001b[0m\n\u001b[0m\u001b[0;32m    400\u001b[0m         \u001b[0mself\u001b[0m\u001b[1;33m.\u001b[0m\u001b[0m_sorted\u001b[0m \u001b[1;33m=\u001b[0m \u001b[1;32mTrue\u001b[0m\u001b[1;33m\u001b[0m\u001b[1;33m\u001b[0m\u001b[0m\n\u001b[0;32m    401\u001b[0m \u001b[1;33m\u001b[0m\u001b[0m\n",
      "\u001b[1;32m~\\Anaconda3\\lib\\site-packages\\colorthief.py\u001b[0m in \u001b[0;36m<lambda>\u001b[1;34m(x)\u001b[0m\n\u001b[0;32m    227\u001b[0m         \u001b[1;31m# get the beginning vbox from the colors\u001b[0m\u001b[1;33m\u001b[0m\u001b[1;33m\u001b[0m\u001b[1;33m\u001b[0m\u001b[0m\n\u001b[0;32m    228\u001b[0m         \u001b[0mvbox\u001b[0m \u001b[1;33m=\u001b[0m \u001b[0mMMCQ\u001b[0m\u001b[1;33m.\u001b[0m\u001b[0mvbox_from_pixels\u001b[0m\u001b[1;33m(\u001b[0m\u001b[0mpixels\u001b[0m\u001b[1;33m,\u001b[0m \u001b[0mhisto\u001b[0m\u001b[1;33m)\u001b[0m\u001b[1;33m\u001b[0m\u001b[1;33m\u001b[0m\u001b[0m\n\u001b[1;32m--> 229\u001b[1;33m         \u001b[0mpq\u001b[0m \u001b[1;33m=\u001b[0m \u001b[0mPQueue\u001b[0m\u001b[1;33m(\u001b[0m\u001b[1;32mlambda\u001b[0m \u001b[0mx\u001b[0m\u001b[1;33m:\u001b[0m \u001b[0mx\u001b[0m\u001b[1;33m.\u001b[0m\u001b[0mcount\u001b[0m\u001b[1;33m)\u001b[0m\u001b[1;33m\u001b[0m\u001b[1;33m\u001b[0m\u001b[0m\n\u001b[0m\u001b[0;32m    230\u001b[0m         \u001b[0mpq\u001b[0m\u001b[1;33m.\u001b[0m\u001b[0mpush\u001b[0m\u001b[1;33m(\u001b[0m\u001b[0mvbox\u001b[0m\u001b[1;33m)\u001b[0m\u001b[1;33m\u001b[0m\u001b[1;33m\u001b[0m\u001b[0m\n\u001b[0;32m    231\u001b[0m \u001b[1;33m\u001b[0m\u001b[0m\n",
      "\u001b[1;32m~\\Anaconda3\\lib\\site-packages\\colorthief.py\u001b[0m in \u001b[0;36m__get__\u001b[1;34m(self, instance, type)\u001b[0m\n\u001b[0;32m     24\u001b[0m \u001b[1;33m\u001b[0m\u001b[0m\n\u001b[0;32m     25\u001b[0m     \u001b[1;32mdef\u001b[0m \u001b[0m__get__\u001b[0m\u001b[1;33m(\u001b[0m\u001b[0mself\u001b[0m\u001b[1;33m,\u001b[0m \u001b[0minstance\u001b[0m\u001b[1;33m,\u001b[0m \u001b[0mtype\u001b[0m\u001b[1;33m)\u001b[0m\u001b[1;33m:\u001b[0m\u001b[1;33m\u001b[0m\u001b[1;33m\u001b[0m\u001b[0m\n\u001b[1;32m---> 26\u001b[1;33m         \u001b[0mres\u001b[0m \u001b[1;33m=\u001b[0m \u001b[0minstance\u001b[0m\u001b[1;33m.\u001b[0m\u001b[0m__dict__\u001b[0m\u001b[1;33m[\u001b[0m\u001b[0mself\u001b[0m\u001b[1;33m.\u001b[0m\u001b[0mfunc\u001b[0m\u001b[1;33m.\u001b[0m\u001b[0m__name__\u001b[0m\u001b[1;33m]\u001b[0m \u001b[1;33m=\u001b[0m \u001b[0mself\u001b[0m\u001b[1;33m.\u001b[0m\u001b[0mfunc\u001b[0m\u001b[1;33m(\u001b[0m\u001b[0minstance\u001b[0m\u001b[1;33m)\u001b[0m\u001b[1;33m\u001b[0m\u001b[1;33m\u001b[0m\u001b[0m\n\u001b[0m\u001b[0;32m     27\u001b[0m         \u001b[1;32mreturn\u001b[0m \u001b[0mres\u001b[0m\u001b[1;33m\u001b[0m\u001b[1;33m\u001b[0m\u001b[0m\n\u001b[0;32m     28\u001b[0m \u001b[1;33m\u001b[0m\u001b[0m\n",
      "\u001b[1;32m~\\Anaconda3\\lib\\site-packages\\colorthief.py\u001b[0m in \u001b[0;36mcount\u001b[1;34m(self)\u001b[0m\n\u001b[0;32m    344\u001b[0m                 \u001b[1;32mfor\u001b[0m \u001b[0mk\u001b[0m \u001b[1;32min\u001b[0m \u001b[0mrange\u001b[0m\u001b[1;33m(\u001b[0m\u001b[0mself\u001b[0m\u001b[1;33m.\u001b[0m\u001b[0mb1\u001b[0m\u001b[1;33m,\u001b[0m \u001b[0mself\u001b[0m\u001b[1;33m.\u001b[0m\u001b[0mb2\u001b[0m \u001b[1;33m+\u001b[0m \u001b[1;36m1\u001b[0m\u001b[1;33m)\u001b[0m\u001b[1;33m:\u001b[0m\u001b[1;33m\u001b[0m\u001b[1;33m\u001b[0m\u001b[0m\n\u001b[0;32m    345\u001b[0m                     \u001b[0mindex\u001b[0m \u001b[1;33m=\u001b[0m \u001b[0mMMCQ\u001b[0m\u001b[1;33m.\u001b[0m\u001b[0mget_color_index\u001b[0m\u001b[1;33m(\u001b[0m\u001b[0mi\u001b[0m\u001b[1;33m,\u001b[0m \u001b[0mj\u001b[0m\u001b[1;33m,\u001b[0m \u001b[0mk\u001b[0m\u001b[1;33m)\u001b[0m\u001b[1;33m\u001b[0m\u001b[1;33m\u001b[0m\u001b[0m\n\u001b[1;32m--> 346\u001b[1;33m                     \u001b[0mnpix\u001b[0m \u001b[1;33m+=\u001b[0m \u001b[0mself\u001b[0m\u001b[1;33m.\u001b[0m\u001b[0mhisto\u001b[0m\u001b[1;33m.\u001b[0m\u001b[0mget\u001b[0m\u001b[1;33m(\u001b[0m\u001b[0mindex\u001b[0m\u001b[1;33m,\u001b[0m \u001b[1;36m0\u001b[0m\u001b[1;33m)\u001b[0m\u001b[1;33m\u001b[0m\u001b[1;33m\u001b[0m\u001b[0m\n\u001b[0m\u001b[0;32m    347\u001b[0m         \u001b[1;32mreturn\u001b[0m \u001b[0mnpix\u001b[0m\u001b[1;33m\u001b[0m\u001b[1;33m\u001b[0m\u001b[0m\n\u001b[0;32m    348\u001b[0m \u001b[1;33m\u001b[0m\u001b[0m\n",
      "\u001b[1;31mKeyboardInterrupt\u001b[0m: "
     ]
    }
   ],
   "source": [
    "domcol = []\n",
    "for x in res_arr:\n",
    "    #get dominant colors and palette\n",
    "    color_thief = ColorThief(x)\n",
    "    dominant_color = color_thief.get_color(quality=1)\n",
    "    domcol.append(dominant_color)\n",
    "mov_df['dominant_color'] = domcol"
   ]
  },
  {
   "cell_type": "code",
   "execution_count": null,
   "metadata": {},
   "outputs": [],
   "source": [
    "for x in res_arr:\n",
    "    print(x)"
   ]
  },
  {
   "cell_type": "markdown",
   "metadata": {},
   "source": [
    "Ready average dominant color for single genres to be graphed"
   ]
  },
  {
   "cell_type": "code",
   "execution_count": null,
   "metadata": {},
   "outputs": [],
   "source": [
    "gen_col = []\n",
    "yarr = []\n",
    "for x in mov_df.columns[7:-2]:\n",
    "    temp = mov_df.loc[mov_df[x] == 1]\n",
    "    arr = temp['dominant_color'].to_numpy()\n",
    "    yarr.append(len(arr))\n",
    "    rgb = []\n",
    "    rsum = 0\n",
    "    gsum = 0\n",
    "    bsum = 0\n",
    "    for y in arr:\n",
    "        rsum += y[0]\n",
    "        gsum += y[1]\n",
    "        bsum += y[2]\n",
    "    rsum = rsum / len(arr)\n",
    "    gsum = gsum / len(arr)\n",
    "    bsum = bsum / len(arr)\n",
    "    rgb.append(rsum /255)\n",
    "    rgb.append(gsum /255)\n",
    "    rgb.append(bsum /255)\n",
    "    gen_col.append(rgb)"
   ]
  },
  {
   "cell_type": "markdown",
   "metadata": {},
   "source": [
    "#### Graph of Dominant Color for single genres. \n",
    "The average dominant color of each genre is a brown color with lighter shades in some genres. This may mean that there is little overall relation between dominant color and genre because they converge to a brown color when mixed together and averaged. "
   ]
  },
  {
   "cell_type": "code",
   "execution_count": null,
   "metadata": {},
   "outputs": [],
   "source": [
    "fig = plt.subplots(figsize = (10,4))\n",
    "xarr = mov_df.columns[7:-2]\n",
    "\n",
    "plt.bar(xarr,yarr,color=gen_col)\n",
    "plt.xlabel('Movie Genre')\n",
    "plt.ylabel('Number of Movies')\n",
    "plt.xticks(rotation=90)\n",
    "plt.title('Average Dominant Color of each Genre')\n",
    "plt.savefig('charts/dom_color.png',bbox_inches='tight')"
   ]
  },
  {
   "cell_type": "markdown",
   "metadata": {},
   "source": [
    "Ready average dominant colors for paired genres since each movie may have more than one genre describing it."
   ]
  },
  {
   "cell_type": "code",
   "execution_count": 12,
   "metadata": {},
   "outputs": [],
   "source": [
    "g_arr = mov_df.columns[7:-2].to_numpy()\n",
    "Xmulti = []\n",
    "Cmulti = []\n",
    "Ymulti = []\n",
    "for x in mov_df.columns[7:-2]:\n",
    "    for y in g_arr:\n",
    "        if (x != y) & len(mov_df.loc[(mov_df[x] == 1) & (mov_df[y] == 1)]) > 0 :\n",
    "            temp = mov_df.loc[(mov_df[x] == 1) & (mov_df[y] == 1)]\n",
    "            Xmulti.append(x + ', ' + y)\n",
    "            \n",
    "            arr = temp['dominant_color'].to_numpy()\n",
    "            rgb = []\n",
    "            rsum = 0\n",
    "            gsum = 0\n",
    "            bsum = 0\n",
    "            for y in arr:\n",
    "                rsum += y[0]\n",
    "                gsum += y[1]\n",
    "                bsum += y[2]\n",
    "            rsum = rsum / len(arr)\n",
    "            gsum = gsum / len(arr)\n",
    "            bsum = bsum / len(arr)\n",
    "            rgb.append(rsum /255)\n",
    "            rgb.append(gsum /255)\n",
    "            rgb.append(bsum /255)\n",
    "            Cmulti.append(rgb)\n",
    "            Ymulti.append(len(temp))\n",
    "    g_arr = np.delete(g_arr,0)"
   ]
  },
  {
   "cell_type": "markdown",
   "metadata": {},
   "source": [
    "#### Graph of average dominant color for paired genres \n",
    "There can be multiple genres for each movie. So in this section we explore the paired genres and the average dominant color that can be seen. The only significant changes that deviate from primarily brown are in genres of movies that are less than 20. This is probably because the sample size is too small for movies less than that number and is more easily thrown off. Otherwise the average dominant color is either a brownish color or a greyish color which means dominant color is not as relevant as we thought when looking at the true movie genre labels."
   ]
  },
  {
   "cell_type": "code",
   "execution_count": 13,
   "metadata": {},
   "outputs": [
    {
     "data": {
      "image/png": "[encoded data removed]",
      "text/plain": [
       "<Figure size 1440x288 with 1 Axes>"
      ]
     },
     "metadata": {
      "needs_background": "light"
     },
     "output_type": "display_data"
    }
   ],
   "source": [
    "fig = plt.subplots(figsize = (20,4))\n",
    "\n",
    "plt.bar(Xmulti,Ymulti,color=Cmulti, align = 'edge')\n",
    "plt.xlabel('Movie Genre')\n",
    "plt.ylabel('Number of Movies')\n",
    "plt.xticks(rotation=90)\n",
    "plt.title('Average Dominant Color of each Paired Genre')\n",
    "plt.savefig('dom_color.png',bbox_inches='tight')"
   ]
  },
  {
   "cell_type": "markdown",
   "metadata": {},
   "source": [
    "### Part 2.2 - Facial Recognition"
   ]
  },
  {
   "cell_type": "code",
   "execution_count": null,
   "metadata": {},
   "outputs": [],
   "source": []
  },
  {
   "cell_type": "markdown",
   "metadata": {},
   "source": [
    "### Part 2.3 - Convolutional Neural Network"
   ]
  },
  {
   "cell_type": "markdown",
   "metadata": {},
   "source": [
    "This prediction of genres of a movie based off of other movie posters is a multi-label classification problem. We are trying to assign multiple labels to a poster rather than just one label. Neural networks can be configured to support multi-label classification and can predict well. This is why we have chosen a neural network to make our prediction model. Every node in the neural network uses sigmoid activation and the neural network is fit with the binary cross entropy loss function. More information about the sequential model and its applications can be found here: https://keras.io/guides/sequential_model/"
   ]
  },
  {
   "cell_type": "markdown",
   "metadata": {},
   "source": [
    "This function sets up the neural network, and creates a sequential prediction model. The model is trained on the processed images above. A summary of the model and its layers is then printed along with plots showing the accuracy of the model evaluated against test data generated by the test_train_split function from sklearn. Finally, the setUpNeuralNetwork function returns the trained model."
   ]
  },
  {
   "cell_type": "code",
   "execution_count": 14,
   "metadata": {},
   "outputs": [],
   "source": [
    "def setupNeuralNetwork(dataModel, img_array):\n",
    "    X_train, X_test, y_train, y_test = train_test_split(img_array, dataModel, random_state = 0, test_size = 0.15)\n",
    "    #print(X_train.shape)\n",
    "\n",
    "    #Build sequential CNN\n",
    "    model = Sequential()\n",
    "\n",
    "    #Configure convolutional layers, specify filter and activation function\n",
    "    model.add(Conv2D(16, (3,3), activation='relu', input_shape = X_train[0].shape))\n",
    "    model.add(BatchNormalization())\n",
    "    model.add(MaxPool2D(2,2))\n",
    "    model.add(Dropout(0.3))\n",
    "\n",
    "    model.add(Conv2D(32, (3,3), activation='relu'))\n",
    "    model.add(BatchNormalization())\n",
    "    model.add(MaxPool2D(2,2))\n",
    "    model.add(Dropout(0.3))\n",
    "\n",
    "    model.add(Conv2D(64, (3,3), activation='relu'))\n",
    "    model.add(BatchNormalization())\n",
    "    model.add(MaxPool2D(2,2))\n",
    "    model.add(Dropout(0.4))\n",
    "\n",
    "    model.add(Conv2D(128, (3,3), activation='relu'))\n",
    "    model.add(BatchNormalization())\n",
    "    model.add(MaxPool2D(2,2))\n",
    "    model.add(Dropout(0.5))\n",
    "\n",
    "    model.add(Flatten())\n",
    "\n",
    "    model.add(Dense(128, activation='relu'))\n",
    "    model.add(BatchNormalization())\n",
    "    model.add(Dropout(0.5))\n",
    "\n",
    "\n",
    "    model.add(Dense(128, activation='relu'))\n",
    "    model.add(BatchNormalization())\n",
    "    model.add(Dropout(0.5))\n",
    "\n",
    "\n",
    "    model.add(Dense(len(mov_df.columns) - 7, activation='sigmoid'))\n",
    "    print(model.summary())\n",
    "    #print(\"train:\", X_train.shape)\n",
    "    #print(\"test:\", X_test.shape)\n",
    "\n",
    "    # Compile and fit the model. Validation data is the data used to evaluate the accuracy of our model\n",
    "    model.compile(optimizer='adam', loss = 'binary_crossentropy', metrics=['accuracy'])\n",
    "    #Epochs is the number of times we want to pass the training data through the network.\n",
    "    history = model.fit(X_train, y_train, epochs=5, validation_data=(X_test, y_test))\n",
    "    plot_learningCurve(history, 5)\n",
    "    return model\n",
    "\n",
    "\n",
    "def plot_learningCurve(history, epoch):\n",
    "    # Plot training & validation accuracy values\n",
    "    epoch_range = range(1, epoch+1)\n",
    "    plt.plot(epoch_range, history.history['accuracy'])\n",
    "    plt.plot(epoch_range, history.history['val_accuracy'])\n",
    "    plt.title('Model accuracy')\n",
    "    plt.ylabel('Accuracy')\n",
    "    plt.xlabel('Epoch')\n",
    "    plt.legend(['Train', 'Val'], loc='upper left')\n",
    "    plt.show()\n",
    "\n",
    "    # Plot training & validation loss values\n",
    "    plt.plot(epoch_range, history.history['loss'])\n",
    "    plt.plot(epoch_range, history.history['val_loss'])\n",
    "    plt.title('Model loss')\n",
    "    plt.ylabel('Loss')\n",
    "    plt.xlabel('Epoch')\n",
    "    plt.legend(['Train', 'Val'], loc='upper left')\n",
    "    plt.show()"
   ]
  },
  {
   "cell_type": "markdown",
   "metadata": {},
   "source": [
    "The predictGenre function uses the prediction model to predict the genres of the movie given as the input. predict() returns the probabilities for each genre of the movie poster belonging to that genre. The predictGenre function then prints out the 3 genres with the highest probability values."
   ]
  },
  {
   "cell_type": "code",
   "execution_count": 15,
   "metadata": {},
   "outputs": [],
   "source": [
    "def predictGenre(model, img):\n",
    "    img = image.load_img(img, target_size = (img_width, img_height, 3))\n",
    "    plt.imshow(img)\n",
    "    img = image.img_to_array(img)\n",
    "    img = img/255.0\n",
    "    img = img.reshape(1, img_width, img_height, 3)\n",
    "\n",
    "    genres = data.columns[7:]\n",
    "    #print(genres)\n",
    "    probGenres = model.predict(img)\n",
    "    #print(probGenres[0])\n",
    "    #print(np.argsort(probGenres[0]))\n",
    "    top3Genres = np.argsort(probGenres[0])[:-4:-1]\n",
    "    #print(probGenres[0][top3Genres])\n",
    "    print(\"Genres: \")\n",
    "    for i in range(3):\n",
    "            print(genres[top3Genres[i]])"
   ]
  },
  {
   "cell_type": "markdown",
   "metadata": {},
   "source": [
    "Warning: We don't recommend running the next block of code since it may take hours depending on your computer to create a model from scratch. The trained model has already been saved in a folder and can be loaded to make our predictions. It's summary has also been printed above."
   ]
  },
  {
   "cell_type": "code",
   "execution_count": 16,
   "metadata": {},
   "outputs": [
    {
     "ename": "NameError",
     "evalue": "name 'train_test_split' is not defined",
     "output_type": "error",
     "traceback": [
      "\u001b[1;31m---------------------------------------------------------------------------\u001b[0m",
      "\u001b[1;31mNameError\u001b[0m                                 Traceback (most recent call last)",
      "\u001b[1;32m<ipython-input-16-e73e7472403b>\u001b[0m in \u001b[0;36m<module>\u001b[1;34m\u001b[0m\n\u001b[1;32m----> 1\u001b[1;33m \u001b[0mmodel\u001b[0m \u001b[1;33m=\u001b[0m \u001b[0msetupNeuralNetwork\u001b[0m\u001b[1;33m(\u001b[0m\u001b[0mdataModel\u001b[0m\u001b[1;33m,\u001b[0m \u001b[0mimg_array\u001b[0m\u001b[1;33m)\u001b[0m\u001b[1;33m\u001b[0m\u001b[1;33m\u001b[0m\u001b[0m\n\u001b[0m\u001b[0;32m      2\u001b[0m \u001b[0mmodel\u001b[0m\u001b[1;33m.\u001b[0m\u001b[0msave\u001b[0m\u001b[1;33m(\u001b[0m\u001b[1;34m\"savedModel\"\u001b[0m\u001b[1;33m)\u001b[0m\u001b[1;33m\u001b[0m\u001b[1;33m\u001b[0m\u001b[0m\n\u001b[0;32m      3\u001b[0m \u001b[0mprint\u001b[0m\u001b[1;33m(\u001b[0m\u001b[1;34m\"Model has been saved\"\u001b[0m\u001b[1;33m)\u001b[0m\u001b[1;33m\u001b[0m\u001b[1;33m\u001b[0m\u001b[0m\n",
      "\u001b[1;32m<ipython-input-14-e030047e669d>\u001b[0m in \u001b[0;36msetupNeuralNetwork\u001b[1;34m(dataModel, img_array)\u001b[0m\n\u001b[0;32m      1\u001b[0m \u001b[1;32mdef\u001b[0m \u001b[0msetupNeuralNetwork\u001b[0m\u001b[1;33m(\u001b[0m\u001b[0mdataModel\u001b[0m\u001b[1;33m,\u001b[0m \u001b[0mimg_array\u001b[0m\u001b[1;33m)\u001b[0m\u001b[1;33m:\u001b[0m\u001b[1;33m\u001b[0m\u001b[1;33m\u001b[0m\u001b[0m\n\u001b[1;32m----> 2\u001b[1;33m     \u001b[0mX_train\u001b[0m\u001b[1;33m,\u001b[0m \u001b[0mX_test\u001b[0m\u001b[1;33m,\u001b[0m \u001b[0my_train\u001b[0m\u001b[1;33m,\u001b[0m \u001b[0my_test\u001b[0m \u001b[1;33m=\u001b[0m \u001b[0mtrain_test_split\u001b[0m\u001b[1;33m(\u001b[0m\u001b[0mimg_array\u001b[0m\u001b[1;33m,\u001b[0m \u001b[0mdataModel\u001b[0m\u001b[1;33m,\u001b[0m \u001b[0mrandom_state\u001b[0m \u001b[1;33m=\u001b[0m \u001b[1;36m0\u001b[0m\u001b[1;33m,\u001b[0m \u001b[0mtest_size\u001b[0m \u001b[1;33m=\u001b[0m \u001b[1;36m0.15\u001b[0m\u001b[1;33m)\u001b[0m\u001b[1;33m\u001b[0m\u001b[1;33m\u001b[0m\u001b[0m\n\u001b[0m\u001b[0;32m      3\u001b[0m     \u001b[1;31m#print(X_train.shape)\u001b[0m\u001b[1;33m\u001b[0m\u001b[1;33m\u001b[0m\u001b[1;33m\u001b[0m\u001b[0m\n\u001b[0;32m      4\u001b[0m \u001b[1;33m\u001b[0m\u001b[0m\n\u001b[0;32m      5\u001b[0m     \u001b[1;31m#Build sequential CNN\u001b[0m\u001b[1;33m\u001b[0m\u001b[1;33m\u001b[0m\u001b[1;33m\u001b[0m\u001b[0m\n",
      "\u001b[1;31mNameError\u001b[0m: name 'train_test_split' is not defined"
     ]
    }
   ],
   "source": [
    "model = setupNeuralNetwork(dataModel, img_array)\n",
    "model.save(\"savedModel\")\n",
    "print(\"Model has been saved\")"
   ]
  },
  {
   "cell_type": "markdown",
   "metadata": {},
   "source": [
    "\n",
    "\n",
    "Since the validation accuracy is greater than training accuracy and validation loss is less than the training loss, we know that the model isn't overfitting the data. It is quite accurate when it comes to predicting the genres of images as we can see from the graphs. The model has been saved to a folder named \"savedModel\". This can be loaded later on to make our predictions.\n"
   ]
  },
  {
   "cell_type": "markdown",
   "metadata": {},
   "source": [
    "# Part 3 - Final Analysis\n",
    "\n",
    "### Conclusions\n",
    "Looking at the results from the dominant color analysis of the movie posters (2.1), we see that each genre's movie posters have almost the same color composition. Since there isn't any conclusive evidence that color composition of a movie poster determines its genre, we will disregard it as a factor in our prediction model.\n",
    "\n",
    "We wanted to do more with emotion detection, but our choices in APIs that handled this was limited. If we wanted to figure out more related to emotion, we would have to train our own model which is unrelated to the movie itself. [Fill this out with results from the face detection analysis]\n",
    "\n",
    "Our sequential model does a pretty good job of predicting genres from movie posters. We can test it out by running the predictGenre function on some movie posters -\n"
   ]
  },
  {
   "cell_type": "code",
   "execution_count": null,
   "metadata": {},
   "outputs": [],
   "source": [
    "# Loading the saved model\n",
    "loaded_model = load_model(\"savedModel\")\n",
    "# Using predictGenre function on the 'us' movie poster\n",
    "predictGenre(loaded_model, \"us.jpg\")"
   ]
  },
  {
   "cell_type": "code",
   "execution_count": null,
   "metadata": {},
   "outputs": [],
   "source": [
    "predictGenre(loaded_model, \"beatles.png\")"
   ]
  },
  {
   "cell_type": "markdown",
   "metadata": {},
   "source": [
    "As we can see, the neural network could be used to predict genres of movies from their movie posters. However, it isn't always correct. Problems for all exploration tools occur because most movies belong to multiple genres. In addition, movie poster creators may not always do a good job at conveying genres through the images. Despite the model's limitations, our movie poster prediction model would be of great use to entertainment providers in choosing which posters to use for movies to attract audiences of different genres."
   ]
  },
  {
   "cell_type": "code",
   "execution_count": null,
   "metadata": {},
   "outputs": [],
   "source": []
  }
 ],
 "metadata": {
  "kernelspec": {
   "display_name": "Python 3.7.4 64-bit ('base': conda)",
   "language": "python",
   "name": "python37464bitbaseconda47e2b08b1fe144c385aca4ec9d1f2c17"
  },
  "language_info": {
   "codemirror_mode": {
    "name": "ipython",
    "version": 3
   },
   "file_extension": ".py",
   "mimetype": "text/x-python",
   "name": "python",
   "nbconvert_exporter": "python",
   "pygments_lexer": "ipython3",
   "version": "3.7.9"
  }
 },
 "nbformat": 4,
 "nbformat_minor": 4
}
