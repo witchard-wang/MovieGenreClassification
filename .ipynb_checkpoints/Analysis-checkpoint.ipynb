{
 "cells": [
  {
   "cell_type": "code",
   "execution_count": 46,
   "metadata": {},
   "outputs": [],
   "source": [
    "import pandas as pd\n",
    "import tensorflow as tf\n",
    "from colorthief import ColorThief\n",
    "import os\n",
    "import matplotlib.pyplot as plt"
   ]
  },
  {
   "cell_type": "code",
   "execution_count": 51,
   "metadata": {},
   "outputs": [],
   "source": [
    "image_path = \"posters/movie1.png\"\n",
    "color_thief = ColorThief(image_path)\n",
    "\n",
    "count = 10\n",
    "dominant_color = color_thief.get_color(quality=1)\n",
    "palette = color_thief.get_palette(color_count=count)"
   ]
  },
  {
   "cell_type": "code",
   "execution_count": 54,
   "metadata": {},
   "outputs": [
    {
     "data": {
      "text/plain": [
       "[(0.9137254901960784, 0.807843137254902, 0.4823529411764706),\n",
       " (0.12941176470588237, 0.10980392156862745, 0.08627450980392157),\n",
       " (0.1803921568627451, 0.5058823529411764, 0.796078431372549),\n",
       " (0.40784313725490196, 0.7490196078431373, 0.8274509803921568),\n",
       " (0.32941176470588235, 0.4196078431372549, 0.47058823529411764),\n",
       " (0.43529411764705883, 0.6196078431372549, 0.7058823529411765),\n",
       " (0.6980392156862745, 0.27058823529411763, 0.1450980392156863),\n",
       " (0.0784313725490196, 0.3215686274509804, 0.611764705882353),\n",
       " (0.0392156862745098, 0.19607843137254902, 0.396078431372549)]"
      ]
     },
     "execution_count": 54,
     "metadata": {},
     "output_type": "execute_result"
    }
   ],
   "source": [
    "palette2 = []\n",
    "for i in palette:\n",
    "    c = tuple(ti/ 255 for ti in i)\n",
    "    palette2.append(c)\n",
    "palette2"
   ]
  },
  {
   "cell_type": "code",
   "execution_count": 55,
   "metadata": {},
   "outputs": [
    {
     "data": {
      "text/plain": [
       "<BarContainer object of 10 artists>"
      ]
     },
     "execution_count": 55,
     "metadata": {},
     "output_type": "execute_result"
    },
    {
     "data": {
      "image/png": "[encoded data removed]",
      "text/plain": [
       "<Figure size 432x288 with 1 Axes>"
      ]
     },
     "metadata": {
      "needs_background": "light"
     },
     "output_type": "display_data"
    }
   ],
   "source": [
    "x = []\n",
    "y=[]\n",
    "for i in range(0,count):\n",
    "    x.append(i)\n",
    "    y.append(10)\n",
    "plt.bar(x,y,color=palette2)"
   ]
  },
  {
   "cell_type": "code",
   "execution_count": null,
   "metadata": {},
   "outputs": [],
   "source": []
  }
 ],
 "metadata": {
  "kernelspec": {
   "display_name": "Python 3",
   "language": "python",
   "name": "python3"
  },
  "language_info": {
   "codemirror_mode": {
    "name": "ipython",
    "version": 3
   },
   "file_extension": ".py",
   "mimetype": "text/x-python",
   "name": "python",
   "nbconvert_exporter": "python",
   "pygments_lexer": "ipython3",
   "version": "3.7.9"
  }
 },
 "nbformat": 4,
 "nbformat_minor": 4
}
