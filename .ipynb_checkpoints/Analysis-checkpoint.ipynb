{
 "cells": [
  {
   "cell_type": "code",
   "execution_count": 2,
   "metadata": {},
   "outputs": [],
   "source": [
    "import pandas as pd\n",
    "import tensorflow as tf\n",
    "from colorthief import ColorThief\n",
    "import os\n",
    "import matplotlib.pyplot as plt\n",
    "from matplotlib import gridspec"
   ]
  },
  {
   "cell_type": "code",
   "execution_count": 3,
   "metadata": {},
   "outputs": [
    {
     "data": {
      "text/plain": [
       "[(233, 206, 123),\n",
       " (33, 28, 22),\n",
       " (46, 129, 203),\n",
       " (104, 191, 211),\n",
       " (84, 107, 120),\n",
       " (111, 158, 180),\n",
       " (178, 69, 37),\n",
       " (20, 82, 156),\n",
       " (10, 50, 101)]"
      ]
     },
     "execution_count": 3,
     "metadata": {},
     "output_type": "execute_result"
    }
   ],
   "source": [
    "image_path = \"posters/movie1.png\"\n",
    "color_thief = ColorThief(image_path)\n",
    "\n",
    "count = 10\n",
    "dominant_color = color_thief.get_color(quality=1)\n",
    "palette = color_thief.get_palette(color_count=count)\n",
    "palette"
   ]
  },
  {
   "cell_type": "code",
   "execution_count": 4,
   "metadata": {},
   "outputs": [
    {
     "name": "stdout",
     "output_type": "stream",
     "text": [
      "(0.20392156862745098, 0.5058823529411764, 0.7725490196078432)\n"
     ]
    },
    {
     "data": {
      "text/plain": [
       "[(0.0392156862745098, 0.19607843137254902, 0.396078431372549),\n",
       " (0.0784313725490196, 0.3215686274509804, 0.611764705882353),\n",
       " (0.12941176470588237, 0.10980392156862745, 0.08627450980392157),\n",
       " (0.1803921568627451, 0.5058823529411764, 0.796078431372549),\n",
       " (0.32941176470588235, 0.4196078431372549, 0.47058823529411764),\n",
       " (0.40784313725490196, 0.7490196078431373, 0.8274509803921568),\n",
       " (0.43529411764705883, 0.6196078431372549, 0.7058823529411765),\n",
       " (0.6980392156862745, 0.27058823529411763, 0.1450980392156863),\n",
       " (0.9137254901960784, 0.807843137254902, 0.4823529411764706)]"
      ]
     },
     "execution_count": 4,
     "metadata": {},
     "output_type": "execute_result"
    }
   ],
   "source": [
    "palette2 = []\n",
    "dc = tuple(ti/255 for ti in dominant_color)\n",
    "\n",
    "for i in palette:\n",
    "    c = tuple(ti/ 255 for ti in i)\n",
    "    palette2.append(c)\n",
    "\n",
    "print(dc)\n",
    "palette2.sort()\n",
    "palette2"
   ]
  },
  {
   "cell_type": "code",
   "execution_count": 5,
   "metadata": {},
   "outputs": [
    {
     "data": {
      "image/png": "[encoded data removed]",
      "text/plain": [
       "<Figure size 720x288 with 2 Axes>"
      ]
     },
     "metadata": {
      "needs_background": "light"
     },
     "output_type": "display_data"
    }
   ],
   "source": [
    "x = []\n",
    "y=[]\n",
    "for i in range(0,len(palette2)):\n",
    "    x.append(str(palette[i]))\n",
    "    y.append(10)\n",
    "\n",
    "fig = plt.subplots(figsize = (10,4))\n",
    "gs = gridspec.GridSpec(1, 2, width_ratios=[3, 1]) \n",
    "\n",
    "plt.subplot(gs[0])\n",
    "plt.bar(x,y,color=palette2)\n",
    "plt.xlabel('RGB Value')\n",
    "plt.xticks(rotation=60)\n",
    "plt.title('10 colors from movie 1')\n",
    "plt.subplot(gs[1])\n",
    "plt.bar(str(dominant_color),10,color=dc)\n",
    "plt.title('Dominant Color')\n",
    "plt.show()"
   ]
  },
  {
   "cell_type": "code",
   "execution_count": 6,
   "metadata": {},
   "outputs": [
    {
     "name": "stdout",
     "output_type": "stream",
     "text": [
      "[INFO] Found 0 Faces.\n",
      "[INFO] Image faces_detected.jpg written to filesystem:  True\n"
     ]
    }
   ],
   "source": [
    "import cv2\n",
    "import sys\n",
    "\n",
    "imagePath = image_path\n",
    "\n",
    "image = cv2.imread(imagePath)\n",
    "gray = cv2.cvtColor(image, cv2.COLOR_BGR2GRAY)\n",
    "\n",
    "faceCascade = cv2.CascadeClassifier(cv2.data.haarcascades + \"haarcascade_frontalface_default.xml\")\n",
    "faces = faceCascade.detectMultiScale(\n",
    "    gray,\n",
    "    scaleFactor=1.3,\n",
    "    minNeighbors=3,\n",
    "    minSize=(30, 30)\n",
    ")\n",
    "\n",
    "print(\"[INFO] Found {0} Faces.\".format(len(faces)))\n",
    "\n",
    "for (x, y, w, h) in faces:\n",
    "    cv2.rectangle(image, (x, y), (x + w, y + h), (0, 255, 0), 2)\n",
    "    roi_color = image[y:y + h, x:x + w]\n",
    "    print(\"[INFO] Object found. Saving locally.\")\n",
    "    cv2.imwrite(str(w) + str(h) + '_faces.jpg', roi_color)\n",
    "\n",
    "status = cv2.imwrite('faces_detected.jpg', image)\n",
    "print(\"[INFO] Image faces_detected.jpg written to filesystem: \", status)"
   ]
  }
 ],
 "metadata": {
  "kernelspec": {
   "display_name": "Python 3",
   "language": "python",
   "name": "python3"
  },
  "language_info": {
   "codemirror_mode": {
    "name": "ipython",
    "version": 3
   },
   "file_extension": ".py",
   "mimetype": "text/x-python",
   "name": "python",
   "nbconvert_exporter": "python",
   "pygments_lexer": "ipython3",
   "version": "3.7.6"
  }
 },
 "nbformat": 4,
 "nbformat_minor": 4
}
