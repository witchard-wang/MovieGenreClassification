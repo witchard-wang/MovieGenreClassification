{
 "cells": [
  {
   "cell_type": "markdown",
   "metadata": {},
   "source": [
    "# CSCE 320 - Classifying Movie Genres based on its Movie Poster"
   ]
  },
  {
   "cell_type": "markdown",
   "metadata": {},
   "source": [
    "# Overview, Project Goals and Motivation\n",
    "\n",
    "Movie posters can be designed in a confusing way even for humans. We wanted to create a model that is able to predict the movie genre of a movie poster. The purpose of this project is to determine some features of a movie poster has that may be key factors in analyzing what genre the movie belongs to and whether a neural network is capable of doing a reasonable job predicting genres based on a single poster.\n",
    "\n",
    "Our primary goal is to create a working prediction model to predict the genre of movie that a movie is based primarily on the poster only. Our secondary goal was to look at features of movie posters and see whether there are any patterns that emerge from them. The features that this study looked at was the dominant color of the movie poster and if it had a face on the poster, the emotion that the faces had. \n",
    "\n",
    "From the neural network, we may eventually apply it to any screenshot from the movie and use that screenshot as promotional material for the movie to target specific audiences. However within the scope of this study, we will not be creating this application."
   ]
  },
  {
   "cell_type": "markdown",
   "metadata": {},
   "source": [
    "# Initial Questions\n",
    "Does the dominant color of poster and the facial emotion of the poster have any effect on predicting what genre that the poster is?\n",
    "\n",
    "Can we create a reliably accurate neural network that can predict the genre of the poster given?"
   ]
  },
  {
   "cell_type": "markdown",
   "metadata": {},
   "source": [
    "# Related Work\n",
    "\n",
    "Article helped with setting up a neural network for multilabeled images <br/>\n",
    "https://machinelearningmastery.com/how-to-develop-a-convolutional-neural-network-to-classify-satellite-photos-of-the-amazon-rainforest/"
   ]
  },
  {
   "cell_type": "markdown",
   "metadata": {},
   "source": [
    "## Outline\n",
    "Part 1 - Data Extraction and Preprocessing <br />\n",
    "&nbsp;&nbsp;&nbsp;&nbsp; 1.1 - Data Preprocessing <br />\n",
    "&nbsp;&nbsp;&nbsp;&nbsp; 1.2 - Dataset Visualization <br />\n",
    "Part 2 - Exploratory Data Analysis <br />\n",
    "&nbsp;&nbsp;&nbsp;&nbsp; 2.1 - Dominant Color Analysis <br />\n",
    "&nbsp;&nbsp;&nbsp;&nbsp; 2.2 - Facial Emotion Analysis <br />\n",
    "&nbsp;&nbsp;&nbsp;&nbsp; 2.3 - Neural Network Prediction <br />\n",
    "Part 3 - Final Analysis"
   ]
  },
  {
   "cell_type": "markdown",
   "metadata": {},
   "source": [
    "# Part 1 - Data extraction and Preprocessing\n",
    "Data was extracted through the TMDB API. The code for this is located inside of the scraper.py file on the Github page.\n",
    "<br/>\n",
    "At first we downloaded all movie posters possible including movies that were not in english and of any date, but then we decided to narrow down the variables and only accepted movie posters that were made for english speaking movies after the year 2000. We also limited the number of movies in each genre to at most 700 since we did not want a large imbalance in movies"
   ]
  },
  {
   "cell_type": "code",
   "execution_count": 76,
   "metadata": {},
   "outputs": [],
   "source": [
    "######### IMPORTS ############\n",
    "#data analysis and vis imports\n",
    "import pandas as pd\n",
    "import numpy as np\n",
    "import matplotlib.pyplot as plt\n",
    "from matplotlib import gridspec\n",
    "from mpl_toolkits.mplot3d import Axes3D\n",
    "\n",
    "#dominant color imports\n",
    "from colorthief import ColorThief\n",
    "\n",
    "#machine learning imports\n",
    "import tensorflow as tf\n",
    "from tensorflow.keras import Sequential\n",
    "from tensorflow.keras.layers import Flatten, Dense, Dropout, BatchNormalization, Conv2D, MaxPool2D\n",
    "from tensorflow.keras.preprocessing import image\n",
    "from sklearn.cluster import KMeans\n",
    "from sklearn.tree import DecisionTreeClassifier\n",
    "\n",
    "#image imports\n",
    "from PIL import Image \n",
    "import cv2\n",
    "\n",
    "import sys\n",
    "import os"
   ]
  },
  {
   "cell_type": "markdown",
   "metadata": {},
   "source": [
    "### Part 1.1 - Data Preprocessing"
   ]
  },
  {
   "cell_type": "markdown",
   "metadata": {},
   "source": [
    "check csv file and make sure that everything has been properly downloaded"
   ]
  },
  {
   "cell_type": "code",
   "execution_count": 2,
   "metadata": {},
   "outputs": [
    {
     "data": {
      "text/html": [
       "<div>\n",
       "<style scoped>\n",
       "    .dataframe tbody tr th:only-of-type {\n",
       "        vertical-align: middle;\n",
       "    }\n",
       "\n",
       "    .dataframe tbody tr th {\n",
       "        vertical-align: top;\n",
       "    }\n",
       "\n",
       "    .dataframe thead th {\n",
       "        text-align: right;\n",
       "    }\n",
       "</style>\n",
       "<table border=\"1\" class=\"dataframe\">\n",
       "  <thead>\n",
       "    <tr style=\"text-align: right;\">\n",
       "      <th></th>\n",
       "      <th>Title</th>\n",
       "      <th>Genres</th>\n",
       "      <th>Poster_Path</th>\n",
       "      <th>Language</th>\n",
       "      <th>Release_Date</th>\n",
       "      <th>Popularity</th>\n",
       "      <th>ID</th>\n",
       "    </tr>\n",
       "  </thead>\n",
       "  <tbody>\n",
       "    <tr>\n",
       "      <th>0</th>\n",
       "      <td>\"40 Days and Nights\"</td>\n",
       "      <td>Action Science Fiction Adventure Thriller</td>\n",
       "      <td>posters/movie0.png</td>\n",
       "      <td>en</td>\n",
       "      <td>2012-12-15</td>\n",
       "      <td>7.378</td>\n",
       "      <td>145738</td>\n",
       "    </tr>\n",
       "    <tr>\n",
       "      <th>1</th>\n",
       "      <td>\"Frustration\"</td>\n",
       "      <td>Animation</td>\n",
       "      <td>posters/movie1.png</td>\n",
       "      <td>en</td>\n",
       "      <td>2015-03-16</td>\n",
       "      <td>0.600</td>\n",
       "      <td>542615</td>\n",
       "    </tr>\n",
       "    <tr>\n",
       "      <th>2</th>\n",
       "      <td>\"Tolkien\"</td>\n",
       "      <td>Drama History War Romance</td>\n",
       "      <td>posters/movie2.png</td>\n",
       "      <td>en</td>\n",
       "      <td>2019-05-03</td>\n",
       "      <td>23.830</td>\n",
       "      <td>468224</td>\n",
       "    </tr>\n",
       "    <tr>\n",
       "      <th>3</th>\n",
       "      <td>\"Save Sandra\"</td>\n",
       "      <td>Drama</td>\n",
       "      <td>posters/movie3.png</td>\n",
       "      <td>en</td>\n",
       "      <td>2020-10-28</td>\n",
       "      <td>1.172</td>\n",
       "      <td>682270</td>\n",
       "    </tr>\n",
       "    <tr>\n",
       "      <th>4</th>\n",
       "      <td>\"Nazi Titanic\"</td>\n",
       "      <td>TV Movie Documentary</td>\n",
       "      <td>posters/movie4.png</td>\n",
       "      <td>en</td>\n",
       "      <td>2012-04-14</td>\n",
       "      <td>4.412</td>\n",
       "      <td>463397</td>\n",
       "    </tr>\n",
       "  </tbody>\n",
       "</table>\n",
       "</div>"
      ],
      "text/plain": [
       "                  Title                                     Genres  \\\n",
       "0  \"40 Days and Nights\"  Action Science Fiction Adventure Thriller   \n",
       "1         \"Frustration\"                                  Animation   \n",
       "2             \"Tolkien\"                  Drama History War Romance   \n",
       "3         \"Save Sandra\"                                      Drama   \n",
       "4        \"Nazi Titanic\"                       TV Movie Documentary   \n",
       "\n",
       "          Poster_Path Language Release_Date  Popularity      ID  \n",
       "0  posters/movie0.png       en   2012-12-15       7.378  145738  \n",
       "1  posters/movie1.png       en   2015-03-16       0.600  542615  \n",
       "2  posters/movie2.png       en   2019-05-03      23.830  468224  \n",
       "3  posters/movie3.png       en   2020-10-28       1.172  682270  \n",
       "4  posters/movie4.png       en   2012-04-14       4.412  463397  "
      ]
     },
     "execution_count": 2,
     "metadata": {},
     "output_type": "execute_result"
    }
   ],
   "source": [
    "data = pd.read_csv('mov_ids.csv')\n",
    "data.head()"
   ]
  },
  {
   "cell_type": "markdown",
   "metadata": {},
   "source": [
    "processImages function resizes the posters to 350 pixels by 350 pixels and stores the rgb values into an img_array. This function is specifically used for preprocessing the image for the neural network.\n",
    "\n",
    "setupData functions takes in the genres from the dataframe and splits them into a binary matrix adding the genres back to the dataframe."
   ]
  },
  {
   "cell_type": "code",
   "execution_count": 3,
   "metadata": {},
   "outputs": [],
   "source": [
    "#Folder specification\n",
    "folder = \"posters\"\n",
    "\n",
    "# formatting image dimensions\n",
    "img_width = 350\n",
    "img_height = 350\n",
    "img_count = len([item for item in os.listdir('resized') if os.path.isfile(os.path.join('resized', item))])\n",
    "\n",
    "def processImages(folder):\n",
    "    img_array = []\n",
    "\n",
    "    i = 0\n",
    "    while i < img_count:\n",
    "        filename = (folder + \"/movie\") + str(i) + \".png\"\n",
    "        img = image.load_img(filename, target_size = (img_width, img_height, 3))\n",
    "        img = image.img_to_array(img) # Converting the image to an array\n",
    "        img = img / 255.0 # Converting to neural network preferred values\n",
    "        img_array.append(img)\n",
    "        i = i + 1\n",
    "    img_array = np.array(img_array)\n",
    "    return img_array\n",
    "\n",
    "def setupData():\n",
    "    data = pd.read_csv(\"mov_IDs.csv\")\n",
    "    i = -1  \n",
    "    \n",
    "    #setup binary matrix\n",
    "    for genres in data['Genres']:\n",
    "        i = i + 1\n",
    "        genres = genres.split()\n",
    "        for genre in genres:\n",
    "            if genre == \"TV\":\n",
    "                genre = \"TV Movie\"\n",
    "            if genre == \"Science\":\n",
    "                genre = \"Science Fiction\"\n",
    "            if genre == \"Movie\" or genre == \"Fiction\":\n",
    "                continue\n",
    "                \n",
    "            if genre not in data.columns:\n",
    "                data[genre] = [0 for a in range(0,img_count)]\n",
    "            data.iloc[i, data.columns.get_loc(genre)] = 1\n",
    "\n",
    "    dataModel = data.drop(['Title', 'Genres', 'Poster_Path', 'Release_Date', 'Language', 'Popularity', 'ID'], axis = 1)\n",
    "    dataModel = dataModel.to_numpy()\n",
    "    img_array = []\n",
    "    img_array = processImages(folder)\n",
    "    return data, dataModel, img_array"
   ]
  },
  {
   "cell_type": "markdown",
   "metadata": {},
   "source": [
    "Resize images to 350 by 350 pixels and put them in their own folder"
   ]
  },
  {
   "cell_type": "code",
   "execution_count": 78,
   "metadata": {},
   "outputs": [],
   "source": [
    "res_arr = []\n",
    "for x in mov_df['Poster_Path']:\n",
    "    #resize posters\n",
    "    img = cv2.imread(x) \n",
    "    width = 350\n",
    "    height = 350\n",
    "    dim = (width, height) \n",
    "    resized = cv2.resize(img, dim, interpolation = cv2.INTER_AREA) \n",
    "    new_path = 'resized/' + x[8:]\n",
    "    cv2.imwrite(new_path, resized)\n",
    "    res_arr.append(new_path)"
   ]
  },
  {
   "cell_type": "code",
   "execution_count": 4,
   "metadata": {},
   "outputs": [],
   "source": [
    "#setup dataframe\n",
    "mov_df, dataModel, img_array = setupData()"
   ]
  },
  {
   "cell_type": "markdown",
   "metadata": {},
   "source": [
    "### Part 1.2 - Dataset Visualization\n",
    "This gives a visualization of what is actually stored in our dataset, primarily the genres and their release dates"
   ]
  },
  {
   "cell_type": "markdown",
   "metadata": {},
   "source": [
    "Plot of all the genres within our dataset. We tried to limit the number of genres so it could have a more even distribution. In the past 2 decades since 2000, through a random selection of movies, we have found that movie genres related to History, Wars, and Westerns is significantly lower while other movies are more widely produced."
   ]
  },
  {
   "cell_type": "code",
   "execution_count": 5,
   "metadata": {},
   "outputs": [
    {
     "data": {
      "image/png": "[encoded data removed]",
      "text/plain": [
       "<Figure size 432x288 with 1 Axes>"
      ]
     },
     "metadata": {
      "needs_background": "light"
     },
     "output_type": "display_data"
    }
   ],
   "source": [
    "def plotGenre(d):\n",
    "    data = d.copy()\n",
    "    \n",
    "    #read genres from dataframe\n",
    "    genres = data.columns[7:]\n",
    "    genreX = []\n",
    "    genreY = []\n",
    "    for x in genres:\n",
    "        genreX.append(x)\n",
    "        genreY.append(len(data.loc[data[x] == 1]))\n",
    "    \n",
    "    #plot genres\n",
    "    plt.title('Genres of every movie within our dataset')\n",
    "    plt.xticks(rotation = 90)\n",
    "    plt.bar(x = genreX, height = genreY)\n",
    "    plt.xlabel('Genre')\n",
    "    plt.ylabel('# of movies')\n",
    "    plt.savefig('charts/genre.png',bbox_inches='tight')\n",
    "plotGenre(mov_df)"
   ]
  },
  {
   "cell_type": "markdown",
   "metadata": {},
   "source": [
    "Plot of all release dates within our dataset. <br/>\n",
    "Although we randomly collected the movie data, with this graph we can see that more and more films have been releasing each year. "
   ]
  },
  {
   "cell_type": "code",
   "execution_count": 6,
   "metadata": {},
   "outputs": [
    {
     "data": {
      "image/png": "[encoded data removed]",
      "text/plain": [
       "<Figure size 432x288 with 1 Axes>"
      ]
     },
     "metadata": {
      "needs_background": "light"
     },
     "output_type": "display_data"
    }
   ],
   "source": [
    "def plotDate(d):\n",
    "    data = d.copy()\n",
    "    \n",
    "    #read dates from dataframe\n",
    "    dateX = [*range(2000,2021,1)]\n",
    "    dateY = []\n",
    "    for x in dateX:\n",
    "        count = 0\n",
    "        for y in data['Release_Date']:\n",
    "            if str(x) == y[0:4]:\n",
    "                count += 1\n",
    "        dateY.append(count)\n",
    "        \n",
    "    #plot date\n",
    "    plt.title('Release Dates of every movie within our dataset')\n",
    "    plt.bar(x = dateX, height = dateY)\n",
    "    plt.xlabel('Release Date (Year)')\n",
    "    plt.ylabel('# of movies')\n",
    "    plt.savefig('charts/dates.png',bbox_inches='tight') \n",
    "plotDate(mov_df)"
   ]
  },
  {
   "cell_type": "markdown",
   "metadata": {},
   "source": [
    "# Part 2 - Exploratory Data Analysis"
   ]
  },
  {
   "cell_type": "markdown",
   "metadata": {},
   "source": [
    "### Part 2.1 - Dominant Color Extraction\n",
    "We decided to take a look at the Dominant Colors of each poster in every movie genre since this may be a key factor in deciding the genre of the movie based off of the poster. First we evaluated the dominant color of every movie based on a single genre, but then we paired genres and analyzed that as well.\n",
    "\n",
    "Dominant colors are extracted using the ColorThief tool. It essentially gets the rgb value array of the image and performs kmeans clustering to get the most dominant color. Originally we created our own, but the model we created was slower than the tool used."
   ]
  },
  {
   "cell_type": "markdown",
   "metadata": {},
   "source": [
    "First get dominant colors from every poster and store it inside of the dataframe"
   ]
  },
  {
   "cell_type": "code",
   "execution_count": 7,
   "metadata": {},
   "outputs": [],
   "source": [
    "domcol = []\n",
    "for x in res_arr:\n",
    "    #get dominant colors and palette\n",
    "    color_thief = ColorThief(new_path)\n",
    "    dominant_color = color_thief.get_color(quality=1)\n",
    "    domcol.append(dominant_color)\n",
    "mov_df['dominant_color'] = domcol"
   ]
  },
  {
   "cell_type": "markdown",
   "metadata": {},
   "source": [
    "Ready average dominant color for single genres to be graphed"
   ]
  },
  {
   "cell_type": "code",
   "execution_count": 70,
   "metadata": {},
   "outputs": [],
   "source": [
    "gen_col = []\n",
    "yarr = []\n",
    "for x in mov_df.columns[7:-2]:\n",
    "    temp = mov_df.loc[mov_df[x] == 1]\n",
    "\n",
    "    arr = temp['dominant_color'].to_numpy()\n",
    "    yarr.append(len(arr))\n",
    "    rgb = []\n",
    "    rsum = 0\n",
    "    gsum = 0\n",
    "    bsum = 0\n",
    "    for y in arr:\n",
    "        rsum += y[0]\n",
    "        gsum += y[1]\n",
    "        bsum += y[2]\n",
    "    rsum = rsum / len(arr)\n",
    "    gsum = gsum / len(arr)\n",
    "    bsum = bsum / len(arr)\n",
    "    rgb.append(rsum /255)\n",
    "    rgb.append(gsum /255)\n",
    "    rgb.append(bsum /255)\n",
    "    gen_col.append(rgb)"
   ]
  },
  {
   "cell_type": "markdown",
   "metadata": {},
   "source": [
    "#### Graph of Dominant Color for single genres. \n",
    "The average dominant color of each genre is a brown color with lighter shades in some genres. This may mean that there is little overall relation between dominant color and genre because they converge to a brown color when mixed together and averaged. "
   ]
  },
  {
   "cell_type": "code",
   "execution_count": 75,
   "metadata": {},
   "outputs": [
    {
     "data": {
      "image/png": "[encoded data removed]",
      "text/plain": [
       "<Figure size 720x288 with 1 Axes>"
      ]
     },
     "metadata": {
      "needs_background": "light"
     },
     "output_type": "display_data"
    }
   ],
   "source": [
    "fig = plt.subplots(figsize = (10,4))\n",
    "xarr = mov_df.columns[7:-2]\n",
    "\n",
    "plt.bar(xarr,yarr,color=gen_col)\n",
    "plt.xlabel('Movie Genre')\n",
    "plt.ylabel('Number of Movies')\n",
    "plt.xticks(rotation=90)\n",
    "plt.title('Average Dominant Color of each Genre')\n",
    "plt.savefig('dom_color.png',bbox_inches='tight')"
   ]
  },
  {
   "cell_type": "markdown",
   "metadata": {},
   "source": [
    "Ready average dominant colors for paired genres since each movie may have more than one genre describing it."
   ]
  },
  {
   "cell_type": "code",
   "execution_count": 73,
   "metadata": {},
   "outputs": [],
   "source": [
    "g_arr = mov_df.columns[7:-2].to_numpy()\n",
    "Xmulti = []\n",
    "Cmulti = []\n",
    "Ymulti = []\n",
    "for x in mov_df.columns[7:-2]:\n",
    "    for y in g_arr:\n",
    "        if (x != y) & len(mov_df.loc[(mov_df[x] == 1) & (mov_df[y] == 1)]) > 0 :\n",
    "            temp = mov_df.loc[(mov_df[x] == 1) & (mov_df[y] == 1)]\n",
    "            Xmulti.append(x + ', ' + y)\n",
    "            \n",
    "            arr = temp['dominant_color'].to_numpy()\n",
    "            rgb = []\n",
    "            rsum = 0\n",
    "            gsum = 0\n",
    "            bsum = 0\n",
    "            for y in arr:\n",
    "                rsum += y[0]\n",
    "                gsum += y[1]\n",
    "                bsum += y[2]\n",
    "            rsum = rsum / len(arr)\n",
    "            gsum = gsum / len(arr)\n",
    "            bsum = bsum / len(arr)\n",
    "            rgb.append(rsum /255)\n",
    "            rgb.append(gsum /255)\n",
    "            rgb.append(bsum /255)\n",
    "            Cmulti.append(rgb)\n",
    "            Ymulti.append(len(temp))\n",
    "    g_arr = np.delete(g_arr,0)"
   ]
  },
  {
   "cell_type": "markdown",
   "metadata": {},
   "source": [
    "#### Graph of average dominant color for paired genres \n",
    "There can be multiple genres for each movie. So in this section we explore the paired genres and the average dominant color that can be seen. The only significant changes that deviate from primarily brown are in genres of movies that are less than 20. This is probably because the sample size is too small for movies less than that number and is more easily thrown off. Otherwise the average dominant color is either a brownish color or a greyish color."
   ]
  },
  {
   "cell_type": "code",
   "execution_count": 74,
   "metadata": {},
   "outputs": [
    {
     "data": {
      "image/png": "[encoded data removed]",
      "text/plain": [
       "<Figure size 1440x288 with 1 Axes>"
      ]
     },
     "metadata": {
      "needs_background": "light"
     },
     "output_type": "display_data"
    }
   ],
   "source": [
    "fig = plt.subplots(figsize = (20,4))\n",
    "\n",
    "plt.bar(Xmulti,Ymulti,color=Cmulti, align = 'edge')\n",
    "plt.xlabel('Movie Genre')\n",
    "plt.ylabel('Number of Movies')\n",
    "plt.xticks(rotation=90)\n",
    "plt.title('Average Dominant Color of each Paired Genre')\n",
    "plt.savefig('dom_color.png',bbox_inches='tight')"
   ]
  },
  {
   "cell_type": "markdown",
   "metadata": {},
   "source": [
    "### Part 2.2 - Facial Recognition and Poster "
   ]
  },
  {
   "cell_type": "code",
   "execution_count": null,
   "metadata": {},
   "outputs": [],
   "source": []
  },
  {
   "cell_type": "markdown",
   "metadata": {},
   "source": [
    "### Part 2.3 - Convolutional Neural Network"
   ]
  },
  {
   "cell_type": "markdown",
   "metadata": {},
   "source": [
    "This prediction of genres of a movie based off of other movie posters is a multi-label classification problem. We are trying to assign multiple labels to a poster rather than just one label. Neural networks can be configured to support multi-label classification and can predict well. This is why we have chosen a neural network to make our prediction model. Every node in the neural network uses sigmoid activation and the neural network is fit with the binary cross entropy loss function. More information about the sequential model and its applications can be found here: https://keras.io/guides/sequential_model/"
   ]
  },
  {
   "cell_type": "markdown",
   "metadata": {},
   "source": [
    "This function sets up the neural network, and creates a sequential prediction model. The model is trained on the processed images above. A summary of the model and its layers is then printed along with plots showing the accuracy of the model evaluated against test data generated by the test_train_split function from sklearn. Finally, the setUpNeuralNetwork function returns the trained model."
   ]
  },
  {
   "cell_type": "code",
   "execution_count": null,
   "metadata": {},
   "outputs": [],
   "source": [
    "def setupNeuralNetwork(dataModel, img_array):\n",
    "    X_train, X_test, y_train, y_test = train_test_split(img_array, dataModel, random_state = 0, test_size = 0.15)\n",
    "    print(X_train.shape)\n",
    "\n",
    "    #Build sequential CNN\n",
    "    model = Sequential()\n",
    "\n",
    "    #Configure convolutional layers, specify filter and activation function\n",
    "    model.add(Conv2D(16, (3,3), activation='relu', input_shape = X_train[0].shape))\n",
    "    model.add(BatchNormalization())\n",
    "    model.add(MaxPool2D(2,2))\n",
    "    model.add(Dropout(0.3))\n",
    "\n",
    "    model.add(Conv2D(32, (3,3), activation='relu'))\n",
    "    model.add(BatchNormalization())\n",
    "    model.add(MaxPool2D(2,2))\n",
    "    model.add(Dropout(0.3))\n",
    "\n",
    "    model.add(Conv2D(64, (3,3), activation='relu'))\n",
    "    model.add(BatchNormalization())\n",
    "    model.add(MaxPool2D(2,2))\n",
    "    model.add(Dropout(0.4))\n",
    "\n",
    "    model.add(Conv2D(128, (3,3), activation='relu'))\n",
    "    model.add(BatchNormalization())\n",
    "    model.add(MaxPool2D(2,2))\n",
    "    model.add(Dropout(0.5))\n",
    "\n",
    "    model.add(Flatten())\n",
    "\n",
    "    model.add(Dense(128, activation='relu'))\n",
    "    model.add(BatchNormalization())\n",
    "    model.add(Dropout(0.5))\n",
    "\n",
    "\n",
    "    model.add(Dense(128, activation='relu'))\n",
    "    model.add(BatchNormalization())\n",
    "    model.add(Dropout(0.5))\n",
    "\n",
    "\n",
    "    model.add(Dense(len(data.columns) - 7, activation='sigmoid'))\n",
    "    print(model.summary())\n",
    "    #print(\"train:\", X_train.shape)\n",
    "    #print(\"test:\", X_test.shape)\n",
    "\n",
    "    # Compile and fit the model. Validation data is the data used to evaluate the accuracy of our model\n",
    "    model.compile(optimizer='adam', loss = 'binary_crossentropy', metrics=['accuracy'])\n",
    "    #Epochs is the number of times we want to pass the training data through the network.\n",
    "    history = model.fit(X_train, y_train, epochs=5, validation_data=(X_test, y_test))\n",
    "    plot_learningCurve(history, 5)\n",
    "    return model\n",
    "\n",
    "\n",
    "def plot_learningCurve(history, epoch):\n",
    "    # Plot training & validation accuracy values\n",
    "    epoch_range = range(1, epoch+1)\n",
    "    plt.plot(epoch_range, history.history['accuracy'])\n",
    "    plt.plot(epoch_range, history.history['val_accuracy'])\n",
    "    plt.title('Model accuracy')\n",
    "    plt.ylabel('Accuracy')\n",
    "    plt.xlabel('Epoch')\n",
    "    plt.legend(['Train', 'Val'], loc='upper left')\n",
    "    plt.show()\n",
    "\n",
    "    # Plot training & validation loss values\n",
    "    plt.plot(epoch_range, history.history['loss'])\n",
    "    plt.plot(epoch_range, history.history['val_loss'])\n",
    "    plt.title('Model loss')\n",
    "    plt.ylabel('Loss')\n",
    "    plt.xlabel('Epoch')\n",
    "    plt.legend(['Train', 'Val'], loc='upper left')\n",
    "    plt.show()"
   ]
  },
  {
   "cell_type": "markdown",
   "metadata": {},
   "source": [
    "The predictGenre function uses the prediction model to predict the genres of the movie given as the input. predict() returns the probabilities for each genre of the movie poster belonging to that genre. The predictGenre function then prints out the 3 genres with the highest probability values."
   ]
  },
  {
   "cell_type": "code",
   "execution_count": null,
   "metadata": {},
   "outputs": [],
   "source": [
    "def predictGenre(model, img):\n",
    "    # load weights into new model\n",
    "    print(\"Loaded model from disk\")\n",
    "    img = image.load_img(img, target_size = (img_width, img_height, 3))\n",
    "    plt.imshow(img)\n",
    "    img = image.img_to_array(img)\n",
    "    img = img/255.0\n",
    "    img = img.reshape(1, img_width, img_height, 3)\n",
    "\n",
    "    genres = data.columns[7:]\n",
    "    print(genres)\n",
    "    probGenres = model.predict(img)\n",
    "    print(probGenres[0])\n",
    "    print(np.argsort(probGenres[0]))\n",
    "    top3Genres = np.argsort(probGenres[0])[:-4:-1]\n",
    "    print(probGenres[0][top3Genres])\n",
    "\n",
    "    for i in range(3):\n",
    "            print(genres[top3Genres[i]])"
   ]
  },
  {
   "cell_type": "markdown",
   "metadata": {},
   "source": [
    "Warning: We don't recommend running the next block of code since it may take hours depending on your computer to create a model from scratch. The trained model has already been saved in a folder and can be loaded to make our predictions. It's summary has also been printed above."
   ]
  },
  {
   "cell_type": "code",
   "execution_count": null,
   "metadata": {},
   "outputs": [],
   "source": [
    "data, dataModel, img_array = setupData()\n",
    "model = setupNeuralNetwork(dataModel, img_array)\n",
    "model.save(\"savedModel\")\n",
    "print(\"Model has been saved\")"
   ]
  },
  {
   "cell_type": "markdown",
   "metadata": {},
   "source": [
    "# Part 3 - Final Analysis"
   ]
  },
  {
   "cell_type": "code",
   "execution_count": null,
   "metadata": {},
   "outputs": [],
   "source": []
  }
 ],
 "metadata": {
  "kernelspec": {
   "display_name": "Python 3.7.4 64-bit ('base': conda)",
   "language": "python",
   "name": "python37464bitbaseconda47e2b08b1fe144c385aca4ec9d1f2c17"
  },
  "language_info": {
   "codemirror_mode": {
    "name": "ipython",
    "version": 3
   },
   "file_extension": ".py",
   "mimetype": "text/x-python",
   "name": "python",
   "nbconvert_exporter": "python",
   "pygments_lexer": "ipython3",
   "version": "3.7.9"
  }
 },
 "nbformat": 4,
 "nbformat_minor": 4
}
